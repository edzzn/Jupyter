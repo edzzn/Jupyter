{
 "cells": [
  {
   "cell_type": "markdown",
   "metadata": {
    "slideshow": {
     "slide_type": "slide"
    }
   },
   "source": [
    "<center>\n",
    "<img src=\"imgs/microsoftUC.png\"/>\n",
    "</center>\n",
    "<div style=\"text-align: right\"> \n",
    "<h2>Edisson Reinozo </h3>\n",
    "<h4>edzzn.com</h4>\n",
    "</div>\n"
   ]
  },
  {
   "cell_type": "markdown",
   "metadata": {
    "slideshow": {
     "slide_type": "slide"
    }
   },
   "source": [
    "\n",
    "![Jupyter Logo](https://2.bp.blogspot.com/-hQWgIdFlf2M/Wpa6D9HEqNI/AAAAAAAAIaQ/MeYAQNPF0Qs1HzYxRdA6nQbcys_D0mKggCLcBGAs/s1600/Figura1LogoJupyter.png)\n",
    "<center><h1><a href=\"https://edzzn.com/jupyter\">edzzn.com/jupyter</a></h1>\n",
    "</center>\n"
   ]
  },
  {
   "cell_type": "markdown",
   "metadata": {
    "slideshow": {
     "slide_type": "slide"
    }
   },
   "source": [
    "# Tabla de contenidos\n",
    "\n",
    "- ¿Qué es Jupyter?\n",
    "- Instalación de Jupyter Notebooks\n",
    "- Tour / Demo\n",
    "- Plugins\n",
    "- Kernels\n",
    "- Instalación de la kernel de R\n",
    "- Más cosas interesantes\n",
    "\n"
   ]
  },
  {
   "cell_type": "markdown",
   "metadata": {
    "slideshow": {
     "slide_type": "slide"
    }
   },
   "source": [
    "# ¿Qúe es Jupyter?\n",
    "\n",
    "- Jupyter nacio como IPython\n",
    "- IPython es una shell interactiva\n",
    "- Jupyter es IPython pero para el navegador\n",
    "- Jupyter empezó como un proyecto para Python, pero se extendio para permitir utilizar otros lenguajes"
   ]
  },
  {
   "cell_type": "markdown",
   "metadata": {
    "slideshow": {
     "slide_type": "fragment"
    }
   },
   "source": [
    "> ## __Aplicación web__ que permite crear y compartir documentos que contienen __código fuente, ecuaciones, visualizaciones y texto__\n"
   ]
  },
  {
   "cell_type": "markdown",
   "metadata": {
    "slideshow": {
     "slide_type": "slide"
    }
   },
   "source": [
    "# Instalación\n",
    "\n",
    "Instalación de IPython y Jupyter\n",
    "\n",
    "__Conda__\n",
    "```\n",
    "conda install jupyter notebook\n",
    "\n",
    "conda install matplotlib\n",
    "```\n",
    "\n",
    "__pip__\n",
    "```\n",
    "pip install --upgrade pip\n",
    "pip install jupyter notebook\n",
    "\n",
    "pip install matplotlib\n",
    "```"
   ]
  },
  {
   "cell_type": "markdown",
   "metadata": {
    "slideshow": {
     "slide_type": "slide"
    }
   },
   "source": [
    "# Ejecutar Jupyter\n",
    "\n",
    "Se utiliza `jupyter notebook` para inicializar la libreta\n",
    "\n",
    "```\n",
    "mkdir jupyter\n",
    "cd jupyter\n",
    "\n",
    "jupyter notebook\n",
    "```"
   ]
  },
  {
   "cell_type": "markdown",
   "metadata": {
    "slideshow": {
     "slide_type": "slide"
    }
   },
   "source": [
    "# Probemos Jupyter"
   ]
  },
  {
   "cell_type": "markdown",
   "metadata": {
    "slideshow": {
     "slide_type": "slide"
    }
   },
   "source": [
    "# Kernels\n",
    "\n",
    "Kernels permiten utilziar otros lenguajes de progración en Jupyter"
   ]
  },
  {
   "cell_type": "markdown",
   "metadata": {
    "slideshow": {
     "slide_type": "slide"
    }
   },
   "source": [
    "# IRKernel - Kernel de R\n",
    "\n",
    "![IRKernel.github.io](https://irkernel.github.io/images/irkernel-logo.svg)\n",
    "\n",
    "---\n",
    "\n",
    "<center> [R kernel for Jupyter Notebook](https://irkernel.github.io/) </center>"
   ]
  },
  {
   "cell_type": "markdown",
   "metadata": {
    "slideshow": {
     "slide_type": "subslide"
    }
   },
   "source": [
    "### 1\n",
    "```\n",
    "install.packages(c('repr', 'IRdisplay', 'evaluate', 'crayon', 'pbdZMQ', 'devtools', 'uuid', 'digest'))\n",
    "devtools::install_github('IRkernel/IRkernel')\n",
    "```\n",
    "### 2 Comprobarción\n",
    "\n",
    "```\n",
    "IRkernel::installspec()\n",
    "\n",
    "# Instalarlo en todo el sistema\n",
    "IRkernel::installspec(user = FALSE)\n",
    "```"
   ]
  },
  {
   "cell_type": "markdown",
   "metadata": {
    "slideshow": {
     "slide_type": "slide"
    }
   },
   "source": [
    "---"
   ]
  },
  {
   "cell_type": "markdown",
   "metadata": {
    "slideshow": {
     "slide_type": "slide"
    }
   },
   "source": [
    "# Pasos para crear una presentación\n",
    "\n",
    "- Crear las transparencias como código o Markdown\n",
    "- View -> Cell Toolbar -> SlideShow\n",
    "- Seleccionar el tipo de Slide ( Parte superior derecha de cada celda)\n",
    "- Guardar, cerrar Jupyter\n",
    "- En la linea de comandos ejecutar:\n",
    "    - `jupyter-nbconvert Presentacion.ipynb --to slides`\n",
    "    - `jupyter-nbconvert Presentacion.ipynb --to slides --post serve`"
   ]
  },
  {
   "cell_type": "markdown",
   "metadata": {},
   "source": [
    "# Más cosas interesantes\n",
    "\n",
    "- Podemos correrlo en la nube\n",
    "    - Podemos ejecutarlo en AWS, Azure, etc\n",
    "    - "
   ]
  },
  {
   "cell_type": "markdown",
   "metadata": {},
   "source": [
    "<center> # Gracias\n",
    "## [edzzn.com/jupyter](https://edzzn.com/jupyter)\n",
    "</center>\n"
   ]
  },
  {
   "cell_type": "code",
   "execution_count": null,
   "metadata": {},
   "outputs": [],
   "source": []
  }
 ],
 "metadata": {
  "celltoolbar": "Slideshow",
  "kernelspec": {
   "display_name": "Python 3",
   "language": "python",
   "name": "python3"
  },
  "language_info": {
   "codemirror_mode": {
    "name": "ipython",
    "version": 3
   },
   "file_extension": ".py",
   "mimetype": "text/x-python",
   "name": "python",
   "nbconvert_exporter": "python",
   "pygments_lexer": "ipython3",
   "version": "3.6.5"
  }
 },
 "nbformat": 4,
 "nbformat_minor": 2
}
