{
 "cells": [
  {
   "cell_type": "markdown",
   "metadata": {},
   "source": [
    "Demo Jupyter\n",
    "====\n",
    "\n",
    "---\n",
    "Podemos hacer muchas cosas con nuestras libretas de Jupyter\n",
    "\n",
    "Markdown\n",
    "------\n",
    "Podemos utilizar Markdown para fomatear el texto:\n",
    "\n",
    "```\n",
    "# H1\n",
    "## H2\n",
    "### H3\n",
    "```\n",
    "\n",
    "# H1\n",
    "## H2\n",
    "### H3\n",
    "\n",
    "```\n",
    "__Negrita__\n",
    "_Cursiva_\n",
    "~~Tachado~~\n",
    "```\n",
    "\n",
    "__Negrita__\n",
    "_Cursiva_\n",
    "~~Tachado~~\n",
    "\n",
    "---\n",
    "\n",
    "### HTML\n",
    "\n",
    "Es posible insertar __HTML__ dentro de nuestras celdas de _Markdonw_\n",
    "\n",
    "```\n",
    "<div>\n",
    "    <span style=\"color:#ff0000;\">P</span>\n",
    "    <span style=\"color:#ff4000;\">o</span>\n",
    "    <span style=\"color:#ff7f00;\">r</span>\n",
    "    <span style=\"color:#ffbf00;\"> </span>\n",
    "    <span style=\"color:#ffff00;\">e</span>\n",
    "    <span style=\"color:#80ff00;\">j</span>\n",
    "    <span style=\"color:#00ff00;\">e</span>\n",
    "    <span style=\"color:#00ff80;\">m</span>\n",
    "    <span style=\"color:#00ffff;\">p</span>\n",
    "    <span style=\"color:#0080ff;\">l</span>\n",
    "    <span style=\"color:#0000ff;\">o</span>\n",
    "</div>\n",
    "```\n",
    "<div><span style=\"color:#ff0000;\">R</span><span style=\"color:#ff1500;\">a</span><span style=\"color:#ff2a00;\">i</span><span style=\"color:#ff4000;\">n</span><span style=\"color:#ff5500;\">b</span><span style=\"color:#ff6a00;\">o</span><span style=\"color:#ff7f00;\">w</span><span style=\"color:#ff9400;\">s</span><span style=\"color:#ffaa00;\"> </span><span style=\"color:#ffbf00;\">a</span><span style=\"color:#ffd400;\">r</span><span style=\"color:#ffea00;\">e</span><span style=\"color:#ffff00;\"> </span><span style=\"color:#dbff00;\">c</span><span style=\"color:#b6ff00;\">o</span><span style=\"color:#92ff00;\">l</span><span style=\"color:#6dff00;\">o</span><span style=\"color:#49ff00;\">r</span><span style=\"color:#24ff00;\">f</span><span style=\"color:#00ff00;\">u</span><span style=\"color:#00ff2b;\">l</span><span style=\"color:#00ff55;\"> </span><span style=\"color:#00ff80;\">a</span><span style=\"color:#00ffaa;\">n</span><span style=\"color:#00ffd5;\">d</span><span style=\"color:#00ffff;\"> </span><span style=\"color:#00d5ff;\">l</span><span style=\"color:#00aaff;\">o</span><span style=\"color:#0080ff;\">v</span><span style=\"color:#0055ff;\">e</span><span style=\"color:#002bff;\">l</span><span style=\"color:#0000ff;\">y</span></div>\n",
    "\n"
   ]
  },
  {
   "cell_type": "markdown",
   "metadata": {},
   "source": [
    "O podemos definir nuestro propio estilo CSS"
   ]
  },
  {
   "cell_type": "markdown",
   "metadata": {},
   "source": [
    "---\n",
    "\n",
    "LaTeX\n",
    "----\n",
    "\n",
    "Podemos utilizar LaTeX para escribir documentos científicos, documentar nuestro código... etc\n",
    "\n",
    "  \\begin{align}\n",
    "    E_0 &= mc^2 \\\\\n",
    "    E &= \\frac{mc^2}{\\sqrt{1-\\frac{v^2}{c^2}}}\n",
    "  \\end{align}  \n",
    "\n",
    "\n",
    "---\n",
    "Código\n",
    "----\n",
    "\n",
    "Y por su puesto podemos ejecutar códgio"
   ]
  },
  {
   "cell_type": "code",
   "execution_count": 1,
   "metadata": {},
   "outputs": [
    {
     "name": "stdout",
     "output_type": "stream",
     "text": [
      "Hola Mundo!\n"
     ]
    }
   ],
   "source": [
    "print(\"Hola Mundo!\")"
   ]
  },
  {
   "cell_type": "markdown",
   "metadata": {},
   "source": [
    "Podemos definir variables, funciones y estas persisten entre celdas"
   ]
  },
  {
   "cell_type": "code",
   "execution_count": 2,
   "metadata": {},
   "outputs": [],
   "source": [
    "a = \"Hola de nuevo\""
   ]
  },
  {
   "cell_type": "code",
   "execution_count": 3,
   "metadata": {},
   "outputs": [
    {
     "name": "stdout",
     "output_type": "stream",
     "text": [
      "Hola de nuevo\n"
     ]
    }
   ],
   "source": [
    "print(a)"
   ]
  },
  {
   "cell_type": "code",
   "execution_count": 4,
   "metadata": {},
   "outputs": [],
   "source": [
    "def sumar(num1, num2):\n",
    "    return num1 + num2"
   ]
  },
  {
   "cell_type": "code",
   "execution_count": 5,
   "metadata": {
    "scrolled": true
   },
   "outputs": [
    {
     "data": {
      "text/plain": [
       "11"
      ]
     },
     "execution_count": 5,
     "metadata": {},
     "output_type": "execute_result"
    }
   ],
   "source": [
    "sumar(5,6)"
   ]
  },
  {
   "cell_type": "markdown",
   "metadata": {},
   "source": [
    "Inspeccionar objetos"
   ]
  },
  {
   "cell_type": "code",
   "execution_count": 6,
   "metadata": {},
   "outputs": [],
   "source": [
    "sumar?"
   ]
  },
  {
   "cell_type": "code",
   "execution_count": 7,
   "metadata": {},
   "outputs": [],
   "source": [
    "a?"
   ]
  },
  {
   "cell_type": "markdown",
   "metadata": {},
   "source": [
    "----\n",
    "# Plugins y Magia\n",
    "\n",
    "Matplotlib\n",
    "-----\n",
    "\n",
    "Podemos realizar visualizaciones de codigo"
   ]
  },
  {
   "cell_type": "code",
   "execution_count": 8,
   "metadata": {},
   "outputs": [],
   "source": [
    "%matplotlib inline"
   ]
  },
  {
   "cell_type": "code",
   "execution_count": 9,
   "metadata": {},
   "outputs": [],
   "source": [
    "import numpy as np\n",
    "from matplotlib import pyplot as plt"
   ]
  },
  {
   "cell_type": "code",
   "execution_count": 10,
   "metadata": {},
   "outputs": [
    {
     "data": {
      "image/png": "[encoded data removed]",
      "text/plain": [
       "<Figure size 432x288 with 1 Axes>"
      ]
     },
     "metadata": {},
     "output_type": "display_data"
    }
   ],
   "source": [
    "datos = np.random.normal(0, 20, 1000) \n",
    "bins = np.arange(-100, 100, 5) \n",
    "plt.xlim([min(datos)-5, max(datos)+5])\n",
    "plt.hist(datos, bins=bins)\n",
    "plt.show()"
   ]
  },
  {
   "cell_type": "code",
   "execution_count": 11,
   "metadata": {
    "scrolled": true
   },
   "outputs": [
    {
     "data": {
      "text/plain": [
       "<matplotlib.collections.PathCollection at 0x23b8556a470>"
      ]
     },
     "execution_count": 11,
     "metadata": {},
     "output_type": "execute_result"
    },
    {
     "data": {
      "image/png": "[encoded data removed]",
      "text/plain": [
       "<Figure size 432x288 with 1 Axes>"
      ]
     },
     "metadata": {},
     "output_type": "display_data"
    }
   ],
   "source": [
    "datos = np.random.normal(0, 1, 1000) \n",
    "plt.scatter(datos , datos)\n",
    "plt.scatter(datos, np.exp(datos))"
   ]
  },
  {
   "cell_type": "markdown",
   "metadata": {},
   "source": [
    "Magia\n",
    "----\n",
    "\n",
    "`%matplotlib inline`\n",
    "\n",
    "Cambia la función de las lineas o celdas. lineMagic CellMagic\n"
   ]
  },
  {
   "cell_type": "code",
   "execution_count": 12,
   "metadata": {},
   "outputs": [
    {
     "data": {
      "application/json": {
       "cell": {
        "!": "OSMagics",
        "HTML": "Other",
        "SVG": "Other",
        "bash": "Other",
        "capture": "ExecutionMagics",
        "cmd": "Other",
        "debug": "ExecutionMagics",
        "file": "Other",
        "html": "DisplayMagics",
        "javascript": "DisplayMagics",
        "js": "DisplayMagics",
        "latex": "DisplayMagics",
        "markdown": "DisplayMagics",
        "perl": "Other",
        "prun": "ExecutionMagics",
        "pypy": "Other",
        "python": "Other",
        "python2": "Other",
        "python3": "Other",
        "ruby": "Other",
        "script": "ScriptMagics",
        "sh": "Other",
        "svg": "DisplayMagics",
        "sx": "OSMagics",
        "system": "OSMagics",
        "time": "ExecutionMagics",
        "timeit": "ExecutionMagics",
        "writefile": "OSMagics"
       },
       "line": {
        "alias": "OSMagics",
        "alias_magic": "BasicMagics",
        "autocall": "AutoMagics",
        "automagic": "AutoMagics",
        "autosave": "KernelMagics",
        "bookmark": "OSMagics",
        "cd": "OSMagics",
        "clear": "KernelMagics",
        "cls": "KernelMagics",
        "colors": "BasicMagics",
        "config": "ConfigMagics",
        "connect_info": "KernelMagics",
        "copy": "Other",
        "ddir": "Other",
        "debug": "ExecutionMagics",
        "dhist": "OSMagics",
        "dirs": "OSMagics",
        "doctest_mode": "BasicMagics",
        "echo": "Other",
        "ed": "Other",
        "edit": "KernelMagics",
        "env": "OSMagics",
        "gui": "BasicMagics",
        "hist": "Other",
        "history": "HistoryMagics",
        "killbgscripts": "ScriptMagics",
        "ldir": "Other",
        "less": "KernelMagics",
        "load": "CodeMagics",
        "load_ext": "ExtensionMagics",
        "loadpy": "CodeMagics",
        "logoff": "LoggingMagics",
        "logon": "LoggingMagics",
        "logstart": "LoggingMagics",
        "logstate": "LoggingMagics",
        "logstop": "LoggingMagics",
        "ls": "Other",
        "lsmagic": "BasicMagics",
        "macro": "ExecutionMagics",
        "magic": "BasicMagics",
        "matplotlib": "PylabMagics",
        "mkdir": "Other",
        "more": "KernelMagics",
        "notebook": "BasicMagics",
        "page": "BasicMagics",
        "pastebin": "CodeMagics",
        "pdb": "ExecutionMagics",
        "pdef": "NamespaceMagics",
        "pdoc": "NamespaceMagics",
        "pfile": "NamespaceMagics",
        "pinfo": "NamespaceMagics",
        "pinfo2": "NamespaceMagics",
        "pip": "BasicMagics",
        "popd": "OSMagics",
        "pprint": "BasicMagics",
        "precision": "BasicMagics",
        "profile": "BasicMagics",
        "prun": "ExecutionMagics",
        "psearch": "NamespaceMagics",
        "psource": "NamespaceMagics",
        "pushd": "OSMagics",
        "pwd": "OSMagics",
        "pycat": "OSMagics",
        "pylab": "PylabMagics",
        "qtconsole": "KernelMagics",
        "quickref": "BasicMagics",
        "recall": "HistoryMagics",
        "rehashx": "OSMagics",
        "reload_ext": "ExtensionMagics",
        "ren": "Other",
        "rep": "Other",
        "rerun": "HistoryMagics",
        "reset": "NamespaceMagics",
        "reset_selective": "NamespaceMagics",
        "rmdir": "Other",
        "run": "ExecutionMagics",
        "save": "CodeMagics",
        "sc": "OSMagics",
        "set_env": "OSMagics",
        "store": "StoreMagics",
        "sx": "OSMagics",
        "system": "OSMagics",
        "tb": "ExecutionMagics",
        "time": "ExecutionMagics",
        "timeit": "ExecutionMagics",
        "unalias": "OSMagics",
        "unload_ext": "ExtensionMagics",
        "who": "NamespaceMagics",
        "who_ls": "NamespaceMagics",
        "whos": "NamespaceMagics",
        "xdel": "NamespaceMagics",
        "xmode": "BasicMagics"
       }
      },
      "text/plain": [
       "Available line magics:\n",
       "%alias  %alias_magic  %autocall  %automagic  %autosave  %bookmark  %cd  %clear  %cls  %colors  %config  %connect_info  %copy  %ddir  %debug  %dhist  %dirs  %doctest_mode  %echo  %ed  %edit  %env  %gui  %hist  %history  %killbgscripts  %ldir  %less  %load  %load_ext  %loadpy  %logoff  %logon  %logstart  %logstate  %logstop  %ls  %lsmagic  %macro  %magic  %matplotlib  %mkdir  %more  %notebook  %page  %pastebin  %pdb  %pdef  %pdoc  %pfile  %pinfo  %pinfo2  %popd  %pprint  %precision  %profile  %prun  %psearch  %psource  %pushd  %pwd  %pycat  %pylab  %qtconsole  %quickref  %recall  %rehashx  %reload_ext  %ren  %rep  %rerun  %reset  %reset_selective  %rmdir  %run  %save  %sc  %set_env  %store  %sx  %system  %tb  %time  %timeit  %unalias  %unload_ext  %who  %who_ls  %whos  %xdel  %xmode\n",
       "\n",
       "Available cell magics:\n",
       "%%!  %%HTML  %%SVG  %%bash  %%capture  %%cmd  %%debug  %%file  %%html  %%javascript  %%js  %%latex  %%markdown  %%perl  %%prun  %%pypy  %%python  %%python2  %%python3  %%ruby  %%script  %%sh  %%svg  %%sx  %%system  %%time  %%timeit  %%writefile\n",
       "\n",
       "Automagic is ON, % prefix IS NOT needed for line magics."
      ]
     },
     "execution_count": 12,
     "metadata": {},
     "output_type": "execute_result"
    }
   ],
   "source": [
    "%lsmagic"
   ]
  },
  {
   "cell_type": "code",
   "execution_count": 28,
   "metadata": {
    "scrolled": true
   },
   "outputs": [
    {
     "name": "stdout",
     "output_type": "stream",
     "text": [
      "11\n",
      "Wall time: 0 ns\n"
     ]
    }
   ],
   "source": [
    "%time print(sumar(5,6))"
   ]
  },
  {
   "cell_type": "markdown",
   "metadata": {},
   "source": [
    "`%%timeit` ejecuta la celda 1 Millon de veces"
   ]
  },
  {
   "cell_type": "code",
   "execution_count": 30,
   "metadata": {
    "scrolled": true
   },
   "outputs": [
    {
     "name": "stdout",
     "output_type": "stream",
     "text": [
      "490 ns ± 9.85 ns per loop (mean ± std. dev. of 7 runs, 1000000 loops each)\n"
     ]
    }
   ],
   "source": [
    "%%timeit\n",
    "x = 0\n",
    "for i in range(10):\n",
    "    x += i"
   ]
  },
  {
   "cell_type": "code",
   "execution_count": 36,
   "metadata": {},
   "outputs": [
    {
     "name": "stdout",
     "output_type": "stream",
     "text": [
      "Couldn't find program: 'bash'\n"
     ]
    }
   ],
   "source": [
    "%%bash\n",
    "\n",
    "# Solo Unix\n",
    "\n",
    "ls /"
   ]
  },
  {
   "cell_type": "code",
   "execution_count": 37,
   "metadata": {},
   "outputs": [
    {
     "name": "stdout",
     "output_type": "stream",
     "text": [
      "Microsoft Windows [Versión 10.0.16299.371]\r\n",
      "(c) 2017 Microsoft Corporation. Todos los derechos reservados.\r\n",
      "\r\n",
      "(jupyter) C:\\Users\\edzzn\\Proyectos\\Charla Jupyter>\n",
      "(jupyter) C:\\Users\\edzzn\\Proyectos\\Charla Jupyter># Solo Unix\n",
      "\r\n",
      "(jupyter) C:\\Users\\edzzn\\Proyectos\\Charla Jupyter>\n",
      "(jupyter) C:\\Users\\edzzn\\Proyectos\\Charla Jupyter>dir\n",
      " El volumen de la unidad C no tiene etiqueta.\r\n",
      " El número de serie del volumen es: 1C62-D72E\r\n",
      "\r\n",
      " Directorio de C:\\Users\\edzzn\\Proyectos\\Charla Jupyter\r\n",
      "\r\n",
      "18/04/2018  17:47    <DIR>          .\r\n",
      "18/04/2018  17:47    <DIR>          ..\r\n",
      "18/04/2018  16:37    <DIR>          .ipynb_checkpoints\r\n",
      "18/04/2018  17:47            29.820 Demo.ipynb\r\n",
      "18/04/2018  15:22    <DIR>          imgs\r\n",
      "18/04/2018  17:06            19.716 notebook.tex\r\n",
      "18/04/2018  17:40             4.370 Presentacion.ipynb\r\n",
      "18/04/2018  16:34           269.985 Presentacion.slides.html\r\n",
      "18/04/2018  16:01    <DIR>          reveal.js\r\n",
      "               4 archivos        323.891 bytes\r\n",
      "               5 dirs  14.081.863.680 bytes libres\r\n",
      "\r\n",
      "(jupyter) C:\\Users\\edzzn\\Proyectos\\Charla Jupyter>"
     ]
    },
    {
     "name": "stderr",
     "output_type": "stream",
     "text": [
      "\"#\" no se reconoce como un comando interno o externo,\r\n",
      "programa o archivo por lotes ejecutable.\r\n"
     ]
    }
   ],
   "source": [
    "%%cmd\n",
    "\n",
    "# Solo Unix\n",
    "\n",
    "dir"
   ]
  },
  {
   "cell_type": "markdown",
   "metadata": {},
   "source": [
    "### %%HTML\n"
   ]
  },
  {
   "cell_type": "code",
   "execution_count": 13,
   "metadata": {},
   "outputs": [
    {
     "data": {
      "text/html": [
       "<style>\n",
       ".rainbow {\n",
       "  background-image: -webkit-gradient( linear, left top, right top, color-stop(0, #f22), color-stop(0.15, #f2f), color-stop(0.3, #22f), color-stop(0.45, #2ff), color-stop(0.6, #2f2),color-stop(0.75, #2f2), color-stop(0.9, #ff2), color-stop(1, #f22) );\n",
       "  background-image: gradient( linear, left top, right top, color-stop(0, #f22), color-stop(0.15, #f2f), color-stop(0.3, #22f), color-stop(0.45, #2ff), color-stop(0.6, #2f2),color-stop(0.75, #2f2), color-stop(0.9, #ff2), color-stop(1, #f22) );\n",
       "  color:transparent;\n",
       "  -webkit-background-clip: text;\n",
       "  background-clip: text;\n",
       "}\n",
       "</style>"
      ],
      "text/plain": [
       "<IPython.core.display.HTML object>"
      ]
     },
     "metadata": {},
     "output_type": "display_data"
    }
   ],
   "source": [
    "%%html\n",
    "<style>\n",
    ".rainbow {\n",
    "  background-image: -webkit-gradient( linear, left top, right top, color-stop(0, #f22), color-stop(0.15, #f2f), color-stop(0.3, #22f), color-stop(0.45, #2ff), color-stop(0.6, #2f2),color-stop(0.75, #2f2), color-stop(0.9, #ff2), color-stop(1, #f22) );\n",
    "  background-image: gradient( linear, left top, right top, color-stop(0, #f22), color-stop(0.15, #f2f), color-stop(0.3, #22f), color-stop(0.45, #2ff), color-stop(0.6, #2f2),color-stop(0.75, #2f2), color-stop(0.9, #ff2), color-stop(1, #f22) );\n",
    "  color:transparent;\n",
    "  -webkit-background-clip: text;\n",
    "  background-clip: text;\n",
    "}\n",
    "</style>"
   ]
  },
  {
   "cell_type": "markdown",
   "metadata": {},
   "source": [
    "<span class=\"rainbow\">Rainbows are colorful and lovely</span>"
   ]
  },
  {
   "cell_type": "code",
   "execution_count": 33,
   "metadata": {},
   "outputs": [
    {
     "name": "stderr",
     "output_type": "stream",
     "text": [
      "UsageError: Cell magic `%%dot` not found.\n"
     ]
    }
   ],
   "source": [
    "%%dot\n"
   ]
  },
  {
   "cell_type": "markdown",
   "metadata": {},
   "source": [
    "## Podemos crear nuestra propia mágia"
   ]
  },
  {
   "cell_type": "code",
   "execution_count": 45,
   "metadata": {},
   "outputs": [
    {
     "data": {
      "text/html": [
       "<h3 style=\"color:blue; text-align: center\">Nuestros objetos pueden tener una represnetación especial en Jupyter</h3>"
      ],
      "text/plain": [
       "<__main__.Objeto at 0x23b855d9da0>"
      ]
     },
     "execution_count": 45,
     "metadata": {},
     "output_type": "execute_result"
    }
   ],
   "source": [
    "class Objeto():\n",
    "    def _repr_html_(self):\n",
    "        return \"\"\"<h3 style=\"color:blue; text-align: center\">Nuestros objetos pueden tener una represnetación especial en Jupyter</h3>\"\"\"\n",
    "\n",
    "obj = Objeto()\n",
    "obj"
   ]
  },
  {
   "cell_type": "markdown",
   "metadata": {},
   "source": [
    "# Widgets"
   ]
  },
  {
   "cell_type": "code",
   "execution_count": 2,
   "metadata": {},
   "outputs": [],
   "source": [
    "import ipywidgets as wg\n",
    "from IPython.display import display"
   ]
  },
  {
   "cell_type": "code",
   "execution_count": 11,
   "metadata": {},
   "outputs": [
    {
     "data": {
      "application/vnd.jupyter.widget-view+json": {
       "model_id": "da8256cc2bb64fa68ffde4844628bfbd",
       "version_major": 2,
       "version_minor": 0
      },
      "text/plain": [
       "Text(value='Nombre')"
      ]
     },
     "metadata": {},
     "output_type": "display_data"
    },
    {
     "data": {
      "application/vnd.jupyter.widget-view+json": {
       "model_id": "e02453ef55bd4fefbd81076a9543bafb",
       "version_major": 2,
       "version_minor": 0
      },
      "text/plain": [
       "IntSlider(value=0, description='Edad')"
      ]
     },
     "metadata": {},
     "output_type": "display_data"
    }
   ],
   "source": [
    "nombre = wg.Text(value='Nombre')\n",
    "edad = wg.IntSlider(description='Edad')\n",
    "\n",
    "display(nombre, edad)"
   ]
  },
  {
   "cell_type": "code",
   "execution_count": 22,
   "metadata": {},
   "outputs": [
    {
     "name": "stdout",
     "output_type": "stream",
     "text": [
      "Edisson tiene 48 años.\n"
     ]
    }
   ],
   "source": [
    "print(\"{nombre} tiene {edad} años.\".format(nombre=nombre.value, edad=edad.value))"
   ]
  },
  {
   "cell_type": "code",
   "execution_count": 23,
   "metadata": {},
   "outputs": [],
   "source": [
    "a = wg.FloatText()"
   ]
  },
  {
   "cell_type": "code",
   "execution_count": 25,
   "metadata": {},
   "outputs": [],
   "source": [
    "b = wg.FloatSlider()"
   ]
  },
  {
   "cell_type": "code",
   "execution_count": 31,
   "metadata": {},
   "outputs": [],
   "source": [
    "link = wg.jslink((a, 'value'), (b, 'value'))"
   ]
  },
  {
   "cell_type": "code",
   "execution_count": 30,
   "metadata": {},
   "outputs": [
    {
     "data": {
      "application/vnd.jupyter.widget-view+json": {
       "model_id": "a50193c0dd7e4ae789dd3f6e3f953a79",
       "version_major": 2,
       "version_minor": 0
      },
      "text/plain": [
       "FloatText(value=0.0)"
      ]
     },
     "metadata": {},
     "output_type": "display_data"
    },
    {
     "data": {
      "application/vnd.jupyter.widget-view+json": {
       "model_id": "9347ea881bf140f786d3438d68cf3649",
       "version_major": 2,
       "version_minor": 0
      },
      "text/plain": [
       "FloatSlider(value=25.5)"
      ]
     },
     "metadata": {},
     "output_type": "display_data"
    }
   ],
   "source": [
    "display(a,b)"
   ]
  },
  {
   "cell_type": "markdown",
   "metadata": {},
   "source": [
    "# Algunos ejemplos\n",
    "\n",
    "[Web Scraping](https://github.com/edzzn/reggaetonGenerator/blob/master/Basic%20scraping.ipynb)\n",
    "[Paper](http://nbviewer.jupyter.org/github/cossatot/lanf_earthquake_likelihood/blob/master/notebooks/lanf_manuscript_notebook.ipynb)"
   ]
  },
  {
   "cell_type": "code",
   "execution_count": null,
   "metadata": {},
   "outputs": [],
   "source": []
  }
 ],
 "metadata": {
  "kernelspec": {
   "display_name": "Python 3",
   "language": "python",
   "name": "python3"
  },
  "language_info": {
   "codemirror_mode": {
    "name": "ipython",
    "version": 3
   },
   "file_extension": ".py",
   "mimetype": "text/x-python",
   "name": "python",
   "nbconvert_exporter": "python",
   "pygments_lexer": "ipython3",
   "version": "3.6.5"
  }
 },
 "nbformat": 4,
 "nbformat_minor": 2
}
